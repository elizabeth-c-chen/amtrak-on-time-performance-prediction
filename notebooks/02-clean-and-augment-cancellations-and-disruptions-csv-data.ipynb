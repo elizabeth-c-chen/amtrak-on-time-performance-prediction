{
 "cells": [
  {
   "cell_type": "markdown",
   "id": "46153855-64f2-49fd-9c78-c8ddea5d933c",
   "metadata": {},
   "source": [
    "## Imports/Setup"
   ]
  },
  {
   "cell_type": "code",
   "execution_count": 2,
   "id": "c8d2e0bc-1170-412f-9491-99e136741fad",
   "metadata": {},
   "outputs": [],
   "source": [
    "import pandas as pd\n",
    "import os\n",
    "import re\n",
    "import numpy as np\n",
    "from datetime import datetime, timedelta\n",
    "\n",
    "def parse_custom_time(time_str):\n",
    "    \"\"\"\n",
    "    Parses a time string like '450P' or '125A' and returns a datetime.time object.\n",
    "    \"\"\"\n",
    "    if pd.isna(time_str) or time_str == '*':\n",
    "        return pd.NaT\n",
    "    \n",
    "    time_str = str(time_str)\n",
    "    am_pm = time_str[-1].upper()\n",
    "    time_val = time_str[:-1]\n",
    "\n",
    "    # Handle cases where the time is a single digit hour\n",
    "    if len(time_val) == 3:\n",
    "        hour = int(time_val[0])\n",
    "        minute = int(time_val[1:])\n",
    "    else:\n",
    "        hour = int(time_val[:2])\n",
    "        minute = int(time_val[2:])\n",
    "\n",
    "    # Adjust hour for AM/PM logic\n",
    "    if am_pm == 'P' and hour != 12:\n",
    "        hour += 12\n",
    "    elif am_pm == 'A' and hour == 12:  # Special case for 12 AM\n",
    "        hour = 0\n",
    "    \n",
    "    return pd.to_datetime(f\"{hour:02d}:{minute:02d}\", format='%H:%M', errors='coerce').time()"
   ]
  },
  {
   "cell_type": "markdown",
   "id": "bf9def68-3fc5-4ea4-a1c7-f9cf81067f62",
   "metadata": {},
   "source": [
    "## Read in exceptions list from previous steps"
   ]
  },
  {
   "cell_type": "code",
   "execution_count": 3,
   "id": "b991faa2-f0d9-4d2e-a904-27a0cf8d9744",
   "metadata": {},
   "outputs": [],
   "source": [
    "all_exceptions = pd.read_csv(\"./exceptions_full.csv\")"
   ]
  },
  {
   "cell_type": "markdown",
   "id": "33994433-e37f-4553-95b4-396abf485c3e",
   "metadata": {},
   "source": [
    "## Look at a file of each type to understand the error"
   ]
  },
  {
   "cell_type": "code",
   "execution_count": 4,
   "id": "5f68120b-040c-483d-a950-bbcb382a69b1",
   "metadata": {},
   "outputs": [
    {
     "data": {
      "text/plain": [
       "error\n",
       "invalid literal for int() with base 10: 'SE'    1148\n",
       "invalid literal for int() with base 10: 'CA'     808\n",
       "invalid literal for int() with base 10: 'b'      328\n",
       "invalid literal for int() with base 10: 'rt'       2\n",
       "Name: count, dtype: int64"
      ]
     },
     "execution_count": 4,
     "metadata": {},
     "output_type": "execute_result"
    }
   ],
   "source": [
    "all_exceptions['error'].value_counts()"
   ]
  },
  {
   "cell_type": "code",
   "execution_count": 5,
   "id": "189cec42-574f-40bc-a44f-33be0de9dcf5",
   "metadata": {},
   "outputs": [
    {
     "name": "stdout",
     "output_type": "stream",
     "text": [
      "invalid literal for int() with base 10: 'SE' ../data/2-csv/2011/66/66_20110722.csv\n",
      "invalid literal for int() with base 10: 'CA' ../data/2-csv/2014/66/66_20140728.csv\n",
      "invalid literal for int() with base 10: 'rt' ../data/2-csv/2015/132/132_20150503.csv\n",
      "invalid literal for int() with base 10: 'b' ../data/2-csv/2021/66/66_20210923.csv\n"
     ]
    }
   ],
   "source": [
    "for err in all_exceptions['error'].unique():\n",
    "    error_files = list(all_exceptions['filepath'].loc[all_exceptions['error'] == err])\n",
    "    first_file = error_files[0]\n",
    "    print(err, first_file)\n",
    "    # with open(first_file, 'r') as f:\n",
    "    #     for line in f:\n",
    "    #         print(line)"
   ]
  },
  {
   "cell_type": "markdown",
   "id": "6cf41436-cec0-456c-a0e9-7527bd6bf19c",
   "metadata": {},
   "source": [
    "## Error File Inspection Findings\n",
    "* `invalid literal for int() with base 10: 'SE'`\n",
    "    * this is a service disruption - first row in CSV after header says: THIS,TRAIN,EXPERIENCED,A,SERVICE,DISRUPTION.,,\n",
    "* `invalid literal for int() with base 10: 'CA'`\n",
    "    * this is a cancellation - first row in CSV after header says: THIS,TRAIN,HAS,EXPERIENCED,CANCELLATIONS.,,,\n",
    "* `invalid literal for int() with base 10: 'b'`\n",
    "    * this file was created by chris juckins - first row in CSV after header says: NOTE:,This,file,created,by,juckins.net/asmad,,\n",
    "* `invalid literal for int() with base 10: 'rt'`\n",
    "    * idk what's wrong with these files lol let's ignore them because it's only 2"
   ]
  },
  {
   "cell_type": "markdown",
   "id": "44b3d9c1-7193-4186-954b-d8a7cfbcb504",
   "metadata": {},
   "source": [
    "## Handle the three main error types separately"
   ]
  },
  {
   "cell_type": "markdown",
   "id": "f24b0d79-983f-4d7f-a4a2-1b886e16d268",
   "metadata": {},
   "source": [
    "### Process Error Type 3: `invalid literal for int() with base 10: 'b'`\n",
    "This one is easy as we just need to remove the first row. "
   ]
  },
  {
   "cell_type": "code",
   "execution_count": 6,
   "id": "30b4c146-3844-4efb-a768-d9e963786fc3",
   "metadata": {},
   "outputs": [],
   "source": [
    "exceptions = [] "
   ]
  },
  {
   "cell_type": "code",
   "execution_count": 9,
   "id": "2104b92a-139b-467b-a939-746cffab70bc",
   "metadata": {},
   "outputs": [],
   "source": [
    "err = \"invalid literal for int() with base 10: 'b'\"\n",
    "error_files = list(all_exceptions['filepath'].loc[all_exceptions['error'] == err])\n",
    "\n",
    "for filepath in error_files:\n",
    "    try:\n",
    "        filename = filepath.split(\"/\")[-1]\n",
    "        train_number_extracted = filename.split(\"_\")[0]\n",
    "        date_string = filename.split(\"_\")[1].rstrip(\".csv\")\n",
    "        date_parsed = datetime.strptime(date_string, \"%Y%m%d\").date()\n",
    "        output_dir = f\"data/3-augmented/{date_parsed.year}/{train_number_extracted}\"\n",
    "        df = pd.read_csv(filepath)\n",
    "        df = df.drop(0, axis=0)\n",
    "\n",
    "        # Augment with columns containing actual date of departure and arrival \n",
    "        origination_date = pd.to_datetime(date_parsed)\n",
    "\n",
    "        df['Origin Date'] = origination_date\n",
    "        df['Train Number'] = train_number_extracted\n",
    "        df['Service Disruption'] = 0\n",
    "        df['Cancellation'] = 0\n",
    "        \n",
    "        departure_day_offset = pd.to_numeric(df['Schedule Departure Day'], errors='coerce') - 1\n",
    "        arrival_day_offset = pd.to_numeric(df['Schedule Arrival Day'], errors='coerce') - 1\n",
    "\n",
    "        df['Scheduled Departure Date'] = origination_date + pd.to_timedelta(departure_day_offset, unit='d')\n",
    "        df['Scheduled Arrival Date'] = origination_date + pd.to_timedelta(arrival_day_offset, unit='d')\n",
    "\n",
    "        # Augment with columns for actual datetime \n",
    "        df['Parsed Schedule Departure Time'] = df['Schedule Departure Time'].apply(parse_custom_time)\n",
    "        df['Parsed Schedule Arrival Time'] = df['Schedule Arrival Time'].apply(parse_custom_time)\n",
    "        df['Parsed Actual Departure Time'] = df['Actual Departure Time'].apply(parse_custom_time)\n",
    "        df['Parsed Actual Arrival Time'] = df['Actual Arrival Time'].apply(parse_custom_time)\n",
    "        \n",
    "        df['Scheduled Departure Datetime'] = df.apply(\n",
    "            lambda row: pd.to_datetime(str(row['Scheduled Departure Date']).split()[0] + ' ' + str(row['Parsed Schedule Departure Time'])) \n",
    "            if pd.notna(row['Scheduled Departure Date']) and pd.notna(row['Parsed Schedule Departure Time'])\n",
    "            else pd.NaT, axis=1)\n",
    "        \n",
    "        df['Scheduled Arrival Datetime'] = df.apply(\n",
    "            lambda row: pd.to_datetime(str(row['Scheduled Arrival Date']).split()[0] + ' ' + str(row['Parsed Schedule Arrival Time'])) \n",
    "            if pd.notna(row['Scheduled Arrival Date']) and pd.notna(row['Parsed Schedule Arrival Time'])\n",
    "            else pd.NaT, axis=1)\n",
    "        \n",
    "        df['Actual Departure Datetime'] = df.apply(\n",
    "            lambda row: pd.to_datetime(str(row['Scheduled Departure Date']).split()[0] + ' ' + str(row['Parsed Actual Departure Time'])) \n",
    "            if pd.notna(row['Scheduled Departure Date']) and pd.notna(row['Parsed Actual Departure Time'])\n",
    "            else pd.NaT, axis=1)\n",
    "        \n",
    "        df['Actual Arrival Datetime'] = df.apply(\n",
    "            lambda row: pd.to_datetime(str(row['Scheduled Arrival Date']).split()[0] + ' ' + str(row['Parsed Actual Arrival Time'])) \n",
    "            if pd.notna(row['Scheduled Arrival Date']) and pd.notna(row['Parsed Actual Arrival Time'])\n",
    "            else pd.NaT, axis=1)\n",
    "\n",
    "        # Output cleaned + augmented data\n",
    "        df = df[['Origin Date', 'Train Number', 'Service Disruption', 'Cancellation', 'Station Code','Scheduled Departure Datetime', 'Scheduled Arrival Datetime', 'Actual Departure Datetime', 'Actual Arrival Datetime', 'Comments']]\n",
    "        output_filepath = os.path.join(output_dir, filename)                   \n",
    "        df.to_csv(output_filepath, index=False)\n",
    "    except ValueError as e:\n",
    "        exceptions.append([filepath, e])\n",
    "    except IndexError as e:\n",
    "        exceptions.append([filepath, e])\n",
    "    "
   ]
  },
  {
   "cell_type": "code",
   "execution_count": 10,
   "id": "9fc76e62-8a0f-4677-8870-2517aeaef7ea",
   "metadata": {},
   "outputs": [
    {
     "data": {
      "text/plain": [
       "1"
      ]
     },
     "execution_count": 10,
     "metadata": {},
     "output_type": "execute_result"
    }
   ],
   "source": [
    "len(exceptions) # this is fine, moving on "
   ]
  },
  {
   "cell_type": "markdown",
   "id": "5bf7a688-c5e5-42fa-b20f-9faa0da98cd2",
   "metadata": {},
   "source": [
    "### Process Error Type 2: `invalid literal for int() with base 10: 'CA'` aka Stop Cancellation(s) Occurred"
   ]
  },
  {
   "cell_type": "code",
   "execution_count": 11,
   "id": "41ab8dde-884c-43fb-a572-b6f817364277",
   "metadata": {},
   "outputs": [],
   "source": [
    "def stop_was_cancelled(val):\n",
    "    if val == 'Stop':\n",
    "        return 1\n",
    "    else:\n",
    "        return 0"
   ]
  },
  {
   "cell_type": "code",
   "execution_count": 12,
   "id": "a9c82111-8a23-4996-bbd4-bca97ee58a3d",
   "metadata": {
    "scrolled": true
   },
   "outputs": [
    {
     "name": "stdout",
     "output_type": "stream",
     "text": [
      "   Station Code Schedule Arrival Day Schedule Arrival Time  \\\n",
      "1           BOS                    *                     *   \n",
      "2           BBY                    *                     *   \n",
      "3           RTE                    *                     *   \n",
      "4           PVD                    *                     *   \n",
      "5           KIN                    *                     *   \n",
      "6           WLY                    *                     *   \n",
      "7           MYS                    *                     *   \n",
      "8           NLC                    *                     *   \n",
      "9           OSB                    *                     *   \n",
      "10          NHV                    1                 1149A   \n",
      "11          BRP                    *                     *   \n",
      "12          STM                    *                     *   \n",
      "13          NRO                    *                     *   \n",
      "14          NYP                    1                  148P   \n",
      "15          NWK                    *                     *   \n",
      "16          MET                    *                     *   \n",
      "17          PHL                    *                     *   \n",
      "18          WIL                    *                     *   \n",
      "19          BAL                    *                     *   \n",
      "20          BWI                    *                     *   \n",
      "21          NCR                    *                     *   \n",
      "22          WAS                    1                  523P   \n",
      "23          ALX                    *                     *   \n",
      "24          QAN                    *                     *   \n",
      "25          FBG                    *                     *   \n",
      "26          ASD                    *                     *   \n",
      "27          RVR                    1                  810P   \n",
      "28          PTB                    *                     *   \n",
      "29          NFK                    1                 1033P   \n",
      "\n",
      "   Schedule Departure Day Schedule Departure Time Actual Arrival Time  \\\n",
      "1                       1                    915A                 NaN   \n",
      "2                       1                    921A                   *   \n",
      "3                       1                    931A                   *   \n",
      "4                       1                    956A                   *   \n",
      "5                       1                   1017A                   *   \n",
      "6                       1                   1031A                   *   \n",
      "7                       1                   1041A                   *   \n",
      "8                       1                   1054A                   *   \n",
      "9                       1                   1113A                   *   \n",
      "10                      1                   1153A               1157A   \n",
      "11                      1                   1219P                   *   \n",
      "12                      1                   1250P                   *   \n",
      "13                      1                    114P                   *   \n",
      "14                      1                    202P                147P   \n",
      "15                      1                    219P                   *   \n",
      "16                      1                    234P                   *   \n",
      "17                      1                    324P                   *   \n",
      "18                      1                    345P                   *   \n",
      "19                      1                    435P                   *   \n",
      "20                      1                    448P                   *   \n",
      "21                      1                    502P                   *   \n",
      "22                      *                       *            Arrived:   \n",
      "23                      1                    607P                 NaT   \n",
      "24                      1                    637P                 NaT   \n",
      "25                      1                    702P                 NaT   \n",
      "26                      1                    746P                 NaT   \n",
      "27                      1                    817P                 NaT   \n",
      "28                      1                    853P                 NaT   \n",
      "29                      *                       *                 NaT   \n",
      "\n",
      "   Actual Departure Time                    Comments  Cancellation  \\\n",
      "1                    NaN          Departed: On time.             0   \n",
      "2                   922A    Departed: 1 minute late.             0   \n",
      "3                   934A   Departed: 3 minutes late.             0   \n",
      "4                   959A   Departed: 3 minutes late.             0   \n",
      "5                  1028A  Departed: 11 minutes late.             0   \n",
      "6                  1044A  Departed: 13 minutes late.             0   \n",
      "7                  1054A  Departed: 13 minutes late.             0   \n",
      "8                  1109A  Departed: 15 minutes late.             0   \n",
      "9                  1129A  Departed: 16 minutes late.             0   \n",
      "10                 1203P  Departed: 10 minutes late.             0   \n",
      "11                 1225P   Departed: 6 minutes late.             0   \n",
      "12                 1254P   Departed: 4 minutes late.             0   \n",
      "13                  117P   Departed: 3 minutes late.             0   \n",
      "14                  202P          Departed: On time.             0   \n",
      "15                  219P          Departed: On time.             0   \n",
      "16                  236P   Departed: 2 minutes late.             0   \n",
      "17                  325P    Departed: 1 minute late.             0   \n",
      "18                  349P   Departed: 4 minutes late.             0   \n",
      "19                  437P   Departed: 2 minutes late.             0   \n",
      "20                  451P   Departed: 3 minutes late.             0   \n",
      "21                  506P   Departed: 4 minutes late.             0   \n",
      "22                     6  Departed: 32 minutes late.             0   \n",
      "23                   NaT                         NaN             1   \n",
      "24                   NaT                         NaN             1   \n",
      "25                   NaT                         NaN             1   \n",
      "26                   NaT                         NaN             1   \n",
      "27                   NaT                         NaN             1   \n",
      "28                   NaT                         NaN             1   \n",
      "29                   NaT                         NaN             1   \n",
      "\n",
      "   Service Disruption Origin Date Train Number Scheduled Departure Date  \\\n",
      "1                      2023-08-28           93               2023-08-28   \n",
      "2                      2023-08-28           93               2023-08-28   \n",
      "3                      2023-08-28           93               2023-08-28   \n",
      "4                      2023-08-28           93               2023-08-28   \n",
      "5                      2023-08-28           93               2023-08-28   \n",
      "6                      2023-08-28           93               2023-08-28   \n",
      "7                      2023-08-28           93               2023-08-28   \n",
      "8                      2023-08-28           93               2023-08-28   \n",
      "9                      2023-08-28           93               2023-08-28   \n",
      "10                     2023-08-28           93               2023-08-28   \n",
      "11                     2023-08-28           93               2023-08-28   \n",
      "12                     2023-08-28           93               2023-08-28   \n",
      "13                     2023-08-28           93               2023-08-28   \n",
      "14                     2023-08-28           93               2023-08-28   \n",
      "15                     2023-08-28           93               2023-08-28   \n",
      "16                     2023-08-28           93               2023-08-28   \n",
      "17                     2023-08-28           93               2023-08-28   \n",
      "18                     2023-08-28           93               2023-08-28   \n",
      "19                     2023-08-28           93               2023-08-28   \n",
      "20                     2023-08-28           93               2023-08-28   \n",
      "21                     2023-08-28           93               2023-08-28   \n",
      "22                     2023-08-28           93                      NaT   \n",
      "23                     2023-08-28           93               2023-08-28   \n",
      "24                     2023-08-28           93               2023-08-28   \n",
      "25                     2023-08-28           93               2023-08-28   \n",
      "26                     2023-08-28           93               2023-08-28   \n",
      "27                     2023-08-28           93               2023-08-28   \n",
      "28                     2023-08-28           93               2023-08-28   \n",
      "29                     2023-08-28           93                      NaT   \n",
      "\n",
      "   Scheduled Arrival Date Parsed Schedule Departure Time  \\\n",
      "1                     NaT                       09:15:00   \n",
      "2                     NaT                       09:21:00   \n",
      "3                     NaT                       09:31:00   \n",
      "4                     NaT                       09:56:00   \n",
      "5                     NaT                       10:17:00   \n",
      "6                     NaT                       10:31:00   \n",
      "7                     NaT                       10:41:00   \n",
      "8                     NaT                       10:54:00   \n",
      "9                     NaT                       11:13:00   \n",
      "10             2023-08-28                       11:53:00   \n",
      "11                    NaT                       12:19:00   \n",
      "12                    NaT                       12:50:00   \n",
      "13                    NaT                       13:14:00   \n",
      "14             2023-08-28                       14:02:00   \n",
      "15                    NaT                       14:19:00   \n",
      "16                    NaT                       14:34:00   \n",
      "17                    NaT                       15:24:00   \n",
      "18                    NaT                       15:45:00   \n",
      "19                    NaT                       16:35:00   \n",
      "20                    NaT                       16:48:00   \n",
      "21                    NaT                       17:02:00   \n",
      "22             2023-08-28                            NaT   \n",
      "23                    NaT                       18:07:00   \n",
      "24                    NaT                       18:37:00   \n",
      "25                    NaT                       19:02:00   \n",
      "26                    NaT                       19:46:00   \n",
      "27             2023-08-28                       20:17:00   \n",
      "28                    NaT                       20:53:00   \n",
      "29             2023-08-28                            NaT   \n",
      "\n",
      "   Parsed Schedule Arrival Time  \n",
      "1                           NaT  \n",
      "2                           NaT  \n",
      "3                           NaT  \n",
      "4                           NaT  \n",
      "5                           NaT  \n",
      "6                           NaT  \n",
      "7                           NaT  \n",
      "8                           NaT  \n",
      "9                           NaT  \n",
      "10                     11:49:00  \n",
      "11                          NaT  \n",
      "12                          NaT  \n",
      "13                          NaT  \n",
      "14                     13:48:00  \n",
      "15                          NaT  \n",
      "16                          NaT  \n",
      "17                          NaT  \n",
      "18                          NaT  \n",
      "19                          NaT  \n",
      "20                          NaT  \n",
      "21                          NaT  \n",
      "22                     17:23:00  \n",
      "23                          NaT  \n",
      "24                          NaT  \n",
      "25                          NaT  \n",
      "26                          NaT  \n",
      "27                     20:10:00  \n",
      "28                          NaT  \n",
      "29                     22:33:00  \n"
     ]
    }
   ],
   "source": [
    "exceptions_2 = []\n",
    "\n",
    "err = \"invalid literal for int() with base 10: 'CA'\"\n",
    "error_files = list(all_exceptions['filepath'].loc[all_exceptions['error'] == err])\n",
    "\n",
    "for filepath in error_files:\n",
    "    try:\n",
    "        filename = filepath.split(\"/\")[-1]\n",
    "        train_number_extracted = filename.split(\"_\")[0]\n",
    "        date_string = filename.split(\"_\")[1].rstrip(\".csv\")\n",
    "        date_parsed = datetime.strptime(date_string, \"%Y%m%d\").date()\n",
    "        output_dir = f\"data/3-augmented/{date_parsed.year}/{train_number_extracted}\"\n",
    "        \n",
    "        df = pd.read_csv(filepath)\n",
    "        df = df.drop(df.loc[df['Station Code'] == 'THIS'].index, axis=0)\n",
    "\n",
    "        # Add SD + C fields \n",
    "        df['Cancellation'] = df['Actual Departure Time'].apply(stop_was_cancelled)\n",
    "        df['Service Disruption'] = \"\"\n",
    "\n",
    "        # Lazy cleaning\n",
    "        df = df.replace('Stop', pd.NaT)\n",
    "        df = df.replace('Station', pd.NaT)\n",
    "        df = df.replace('ET', pd.NaT)\n",
    "        df = df.replace('SuMoTuWeTh',pd.NaT )\n",
    "        df = df.replace('MoTuWeTh', pd.NaT)\n",
    "        df = df.replace('MoTuWeThFr', pd.NaT)\n",
    "        df = df.replace('SuMoTuWeThFr', pd.NaT)\n",
    "        df = df.replace('Sa', pd.NaT)\n",
    "        df = df.replace('SaSu', pd.NaT)\n",
    "        df = df.replace('Su', pd.NaT)\n",
    "    \n",
    "        # Augment with columns containing actual date of departure and arrival \n",
    "        origination_date = pd.to_datetime(date_parsed)\n",
    "        \n",
    "        df['Origin Date'] = origination_date\n",
    "        df['Train Number'] = train_number_extracted\n",
    "        \n",
    "        departure_day_offset = pd.to_numeric(df['Schedule Departure Day'], errors='coerce') - 1\n",
    "        arrival_day_offset = pd.to_numeric(df['Schedule Arrival Day'], errors='coerce') - 1\n",
    "    \n",
    "        df['Scheduled Departure Date'] = origination_date + pd.to_timedelta(departure_day_offset, unit='d')\n",
    "        df['Scheduled Arrival Date'] = origination_date + pd.to_timedelta(arrival_day_offset, unit='d')\n",
    "    \n",
    "        # Augment with columns for actual datetime \n",
    "        df['Parsed Schedule Departure Time'] = df['Schedule Departure Time'].apply(parse_custom_time)\n",
    "        df['Parsed Schedule Arrival Time'] = df['Schedule Arrival Time'].apply(parse_custom_time)\n",
    "        df['Parsed Actual Departure Time'] = df['Actual Departure Time'].apply(parse_custom_time)\n",
    "        df['Parsed Actual Arrival Time'] = df['Actual Arrival Time'].apply(parse_custom_time)\n",
    "        \n",
    "        df['Scheduled Departure Datetime'] = df.apply(\n",
    "            lambda row: pd.to_datetime(str(row['Scheduled Departure Date']).split()[0] + ' ' + str(row['Parsed Schedule Departure Time'])) \n",
    "            if pd.notna(row['Scheduled Departure Date']) and pd.notna(row['Parsed Schedule Departure Time'])\n",
    "            else pd.NaT, axis=1)\n",
    "        \n",
    "        df['Scheduled Arrival Datetime'] = df.apply(\n",
    "            lambda row: pd.to_datetime(str(row['Scheduled Arrival Date']).split()[0] + ' ' + str(row['Parsed Schedule Arrival Time'])) \n",
    "            if pd.notna(row['Scheduled Arrival Date']) and pd.notna(row['Parsed Schedule Arrival Time'])\n",
    "            else pd.NaT, axis=1)\n",
    "        \n",
    "        df['Actual Departure Datetime'] = df.apply(\n",
    "            lambda row: pd.to_datetime(str(row['Scheduled Departure Date']).split()[0] + ' ' + str(row['Parsed Actual Departure Time'])) \n",
    "            if pd.notna(row['Scheduled Departure Date']) and pd.notna(row['Parsed Actual Departure Time'])\n",
    "            else pd.NaT, axis=1)\n",
    "        \n",
    "        df['Actual Arrival Datetime'] = df.apply(\n",
    "            lambda row: pd.to_datetime(str(row['Scheduled Arrival Date']).split()[0] + ' ' + str(row['Parsed Actual Arrival Time'])) \n",
    "            if pd.notna(row['Scheduled Arrival Date']) and pd.notna(row['Parsed Actual Arrival Time'])\n",
    "            else pd.NaT, axis=1)\n",
    "    \n",
    "        # Output cleaned + augmented data\n",
    "        df = df[['Origin Date', 'Train Number', 'Service Disruption', 'Cancellation', 'Station Code','Scheduled Departure Datetime', 'Scheduled Arrival Datetime', 'Actual Departure Datetime', 'Actual Arrival Datetime', 'Comments']]\n",
    "        output_filepath = os.path.join(output_dir, filename)                   \n",
    "        df.to_csv(output_filepath, index=False)\n",
    "    except ValueError as e:\n",
    "        exceptions_2.append([filepath, e])\n",
    "        print(df)\n",
    "    except IndexError as e:\n",
    "        exceptions_2.append([filepath, e])\n",
    "    "
   ]
  },
  {
   "cell_type": "code",
   "execution_count": 13,
   "id": "920580c4-96f3-4c10-9956-0426331ed42e",
   "metadata": {
    "scrolled": true
   },
   "outputs": [
    {
     "data": {
      "text/plain": [
       "1"
      ]
     },
     "execution_count": 13,
     "metadata": {},
     "output_type": "execute_result"
    }
   ],
   "source": [
    "len(exceptions_2)"
   ]
  },
  {
   "cell_type": "code",
   "execution_count": 14,
   "id": "ceb5fce0-d96f-4912-98d3-0b28e416e470",
   "metadata": {},
   "outputs": [
    {
     "data": {
      "text/plain": [
       "[['../data/2-csv/2023/93/93_20230828.csv',\n",
       "  ValueError(\"invalid literal for int() with base 10: ''\")]]"
      ]
     },
     "execution_count": 14,
     "metadata": {},
     "output_type": "execute_result"
    }
   ],
   "source": [
    "exceptions_2 # ok whatever let's move on"
   ]
  },
  {
   "cell_type": "markdown",
   "id": "fafc6b6a-6650-448d-97a4-417f9e8af538",
   "metadata": {},
   "source": [
    "### Process Error Type 1: `invalid literal for int() with base 10: 'SE'` aka Service Disruption occurred"
   ]
  },
  {
   "cell_type": "code",
   "execution_count": 15,
   "id": "e1748498-2e23-4cc8-852d-8fe0fe268768",
   "metadata": {},
   "outputs": [],
   "source": [
    "exceptions_1 = []\n",
    "\n",
    "err = \"invalid literal for int() with base 10: 'SE'\"\n",
    "error_files = list(all_exceptions['filepath'].loc[all_exceptions['error'] == err])\n",
    "\n",
    "for filepath in error_files:\n",
    "    try:\n",
    "        filename = filepath.split(\"/\")[-1]\n",
    "        train_number_extracted = filename.split(\"_\")[0]\n",
    "        date_string = filename.split(\"_\")[1].rstrip(\".csv\")\n",
    "        date_parsed = datetime.strptime(date_string, \"%Y%m%d\").date()\n",
    "        output_dir = f\"data/3-augmented/{date_parsed.year}/{train_number_extracted}\"\n",
    "        \n",
    "        df = pd.read_csv(filepath)\n",
    "        df = df.drop(df.loc[df['Station Code'] == 'THIS'].index, axis=0)\n",
    "\n",
    "        # Add SD + C fields \n",
    "        df['Cancellation'] = df['Actual Departure Time'].apply(stop_was_cancelled)\n",
    "        df['Service Disruption'] = 1\n",
    "\n",
    "        # Lazy cleaning\n",
    "        df = df.replace('Stop', pd.NaT)\n",
    "        df = df.replace('Station', pd.NaT)\n",
    "        df = df.replace('ET', pd.NaT)\n",
    "        df = df.replace('SuMoTuWeTh',pd.NaT )\n",
    "        df = df.replace('MoTuWeTh', pd.NaT)\n",
    "        df = df.replace('MoTuWeThFr', pd.NaT)\n",
    "        df = df.replace('SuMoTuWeThFr', pd.NaT)\n",
    "        df = df.replace('Sa', pd.NaT)\n",
    "        df = df.replace('SaSu', pd.NaT)\n",
    "        df = df.replace('Su', pd.NaT)\n",
    "    \n",
    "        # Augment with columns containing actual date of departure and arrival \n",
    "        origination_date = pd.to_datetime(date_parsed)\n",
    "        \n",
    "        df['Origin Date'] = origination_date\n",
    "        df['Train Number'] = train_number_extracted\n",
    "        \n",
    "        departure_day_offset = pd.to_numeric(df['Schedule Departure Day'], errors='coerce') - 1\n",
    "        arrival_day_offset = pd.to_numeric(df['Schedule Arrival Day'], errors='coerce') - 1\n",
    "    \n",
    "        df['Scheduled Departure Date'] = origination_date + pd.to_timedelta(departure_day_offset, unit='d')\n",
    "        df['Scheduled Arrival Date'] = origination_date + pd.to_timedelta(arrival_day_offset, unit='d')\n",
    "    \n",
    "        # Augment with columns for actual datetime \n",
    "        df['Parsed Schedule Departure Time'] = df['Schedule Departure Time'].apply(parse_custom_time)\n",
    "        df['Parsed Schedule Arrival Time'] = df['Schedule Arrival Time'].apply(parse_custom_time)\n",
    "        df['Parsed Actual Departure Time'] = df['Actual Departure Time'].apply(parse_custom_time)\n",
    "        df['Parsed Actual Arrival Time'] = df['Actual Arrival Time'].apply(parse_custom_time)\n",
    "        \n",
    "        df['Scheduled Departure Datetime'] = df.apply(\n",
    "            lambda row: pd.to_datetime(str(row['Scheduled Departure Date']).split()[0] + ' ' + str(row['Parsed Schedule Departure Time'])) \n",
    "            if pd.notna(row['Scheduled Departure Date']) and pd.notna(row['Parsed Schedule Departure Time'])\n",
    "            else pd.NaT, axis=1)\n",
    "        \n",
    "        df['Scheduled Arrival Datetime'] = df.apply(\n",
    "            lambda row: pd.to_datetime(str(row['Scheduled Arrival Date']).split()[0] + ' ' + str(row['Parsed Schedule Arrival Time'])) \n",
    "            if pd.notna(row['Scheduled Arrival Date']) and pd.notna(row['Parsed Schedule Arrival Time'])\n",
    "            else pd.NaT, axis=1)\n",
    "        \n",
    "        df['Actual Departure Datetime'] = df.apply(\n",
    "            lambda row: pd.to_datetime(str(row['Scheduled Departure Date']).split()[0] + ' ' + str(row['Parsed Actual Departure Time'])) \n",
    "            if pd.notna(row['Scheduled Departure Date']) and pd.notna(row['Parsed Actual Departure Time'])\n",
    "            else pd.NaT, axis=1)\n",
    "        \n",
    "        df['Actual Arrival Datetime'] = df.apply(\n",
    "            lambda row: pd.to_datetime(str(row['Scheduled Arrival Date']).split()[0] + ' ' + str(row['Parsed Actual Arrival Time'])) \n",
    "            if pd.notna(row['Scheduled Arrival Date']) and pd.notna(row['Parsed Actual Arrival Time'])\n",
    "            else pd.NaT, axis=1)\n",
    "    \n",
    "        # Output cleaned + augmented data\n",
    "        df = df[['Origin Date', 'Train Number', 'Service Disruption', 'Cancellation', 'Station Code','Scheduled Departure Datetime', 'Scheduled Arrival Datetime', 'Actual Departure Datetime', 'Actual Arrival Datetime', 'Comments']]\n",
    "        output_filepath = os.path.join(output_dir, filename)                   \n",
    "        df.to_csv(output_filepath, index=False)\n",
    "    except ValueError as e:\n",
    "        exceptions_1.append([filepath, e])\n",
    "        print(df)\n",
    "    except IndexError as e:\n",
    "        exceptions_2.append([filepath, e])\n",
    "    "
   ]
  },
  {
   "cell_type": "code",
   "execution_count": 16,
   "id": "d8df7165-80e2-495d-bd15-d9558a1f67a5",
   "metadata": {},
   "outputs": [
    {
     "data": {
      "text/plain": [
       "0"
      ]
     },
     "execution_count": 16,
     "metadata": {},
     "output_type": "execute_result"
    }
   ],
   "source": [
    "len(exceptions_1) # cool beans ok we're done"
   ]
  },
  {
   "cell_type": "code",
   "execution_count": null,
   "id": "c92563fa-0965-4978-814f-eacdb6cadd3a",
   "metadata": {},
   "outputs": [],
   "source": []
  }
 ],
 "metadata": {
  "kernelspec": {
   "display_name": "Python 3 (ipykernel)",
   "language": "python",
   "name": "python3"
  },
  "language_info": {
   "codemirror_mode": {
    "name": "ipython",
    "version": 3
   },
   "file_extension": ".py",
   "mimetype": "text/x-python",
   "name": "python",
   "nbconvert_exporter": "python",
   "pygments_lexer": "ipython3",
   "version": "3.13.5"
  }
 },
 "nbformat": 4,
 "nbformat_minor": 5
}
