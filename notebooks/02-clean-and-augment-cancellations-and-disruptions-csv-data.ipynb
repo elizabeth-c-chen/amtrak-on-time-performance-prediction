{
 "cells": [
  {
   "cell_type": "code",
   "execution_count": 1,
   "id": "c8d2e0bc-1170-412f-9491-99e136741fad",
   "metadata": {},
   "outputs": [],
   "source": [
    "import pandas as pd\n",
    "import os\n",
    "import re\n",
    "import numpy as np\n",
    "from datetime import datetime, timedelta"
   ]
  },
  {
   "cell_type": "markdown",
   "id": "bf9def68-3fc5-4ea4-a1c7-f9cf81067f62",
   "metadata": {},
   "source": []
  },
  {
   "cell_type": "code",
   "execution_count": 4,
   "id": "b991faa2-f0d9-4d2e-a904-27a0cf8d9744",
   "metadata": {},
   "outputs": [],
   "source": [
    "all_exceptions = pd.read_csv(\"./exceptions_full.csv\")"
   ]
  },
  {
   "cell_type": "markdown",
   "id": "33994433-e37f-4553-95b4-396abf485c3e",
   "metadata": {},
   "source": [
    "### Look at "
   ]
  },
  {
   "cell_type": "code",
   "execution_count": null,
   "id": "814644b7-6eb3-4000-84df-f017d82d9325",
   "metadata": {},
   "outputs": [],
   "source": []
  },
  {
   "cell_type": "code",
   "execution_count": 6,
   "id": "5f68120b-040c-483d-a950-bbcb382a69b1",
   "metadata": {},
   "outputs": [
    {
     "data": {
      "text/plain": [
       "array([\"invalid literal for int() with base 10: 'SE'\",\n",
       "       \"invalid literal for int() with base 10: 'CA'\",\n",
       "       \"invalid literal for int() with base 10: 'rt'\",\n",
       "       \"invalid literal for int() with base 10: 'b'\"], dtype=object)"
      ]
     },
     "execution_count": 6,
     "metadata": {},
     "output_type": "execute_result"
    }
   ],
   "source": [
    "all_exceptions['error'].unique()"
   ]
  },
  {
   "cell_type": "code",
   "execution_count": null,
   "id": "189cec42-574f-40bc-a44f-33be0de9dcf5",
   "metadata": {},
   "outputs": [],
   "source": [
    "for err in all_exceptions['error'].unique():\n",
    "    error_files = all_exceptions['filepath'].loc[all_exceptions['error'] == err]\n",
    "    first_file = "
   ]
  }
 ],
 "metadata": {
  "kernelspec": {
   "display_name": "Python 3 (ipykernel)",
   "language": "python",
   "name": "python3"
  },
  "language_info": {
   "codemirror_mode": {
    "name": "ipython",
    "version": 3
   },
   "file_extension": ".py",
   "mimetype": "text/x-python",
   "name": "python",
   "nbconvert_exporter": "python",
   "pygments_lexer": "ipython3",
   "version": "3.13.5"
  }
 },
 "nbformat": 4,
 "nbformat_minor": 5
}
